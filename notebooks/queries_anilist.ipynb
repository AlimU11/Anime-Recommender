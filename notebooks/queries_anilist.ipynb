{
 "cells": [
  {
   "cell_type": "markdown",
   "id": "dc158b6a-38b7-4b73-be73-fb83bcc53674",
   "metadata": {},
   "source": [
    "# This is a **(quite) cleared** version of notebook used during data preparation. Something may not work!"
   ]
  },
  {
   "cell_type": "code",
   "execution_count": 46,
   "id": "1baa8312-2402-4310-b31a-d6f15c6193d6",
   "metadata": {},
   "outputs": [
    {
     "data": {
      "text/plain": [
       "{'data': {'Page': {'pageInfo': {'total': 5000,\n",
       "    'currentPage': 1,\n",
       "    'lastPage': 100,\n",
       "    'hasNextPage': True,\n",
       "    'perPage': 50},\n",
       "   'media': [{'id': 155348, 'title': {'romaji': 'ROAD OF NARUTO'}},\n",
       "    {'id': 155346, 'title': {'romaji': 'Kikkake wa, KitKat de.'}},\n",
       "    {'id': 155345,\n",
       "     'title': {'romaji': 'Kao ni Denai Kashiwada-san to Kao ni Deru Oota-kun CM'}},\n",
       "    {'id': 155334, 'title': {'romaji': 'Anying Lieren'}},\n",
       "    {'id': 155333, 'title': {'romaji': 'Ke Jin Wanjia'}},\n",
       "    {'id': 155332, 'title': {'romaji': 'Yong Wang Zhi Qian - FAST BREAK'}},\n",
       "    {'id': 155331, 'title': {'romaji': 'Xiuluo Zhan Hun'}},\n",
       "    {'id': 155330, 'title': {'romaji': 'Xitong Xianzun Zai Dushi'}},\n",
       "    {'id': 155329, 'title': {'romaji': 'Jidao Long Shen 2'}},\n",
       "    {'id': 155328, 'title': {'romaji': 'Wo Zai Xianjie Zheng Jifen'}},\n",
       "    {'id': 155327, 'title': {'romaji': 'Jiu Tian Xuan Di Jue 3'}},\n",
       "    {'id': 155326, 'title': {'romaji': 'Shen Ji Long Wei 2'}},\n",
       "    {'id': 155325, 'title': {'romaji': 'Bing Huo Mo Chu 2'}},\n",
       "    {'id': 155324, 'title': {'romaji': 'Nitian Zhan Shen'}},\n",
       "    {'id': 155323, 'title': {'romaji': 'Wangu Xie Di'}},\n",
       "    {'id': 155322, 'title': {'romaji': 'Zhenwu Dianfeng 2'}},\n",
       "    {'id': 155321, 'title': {'romaji': 'Gaishi Dizun'}},\n",
       "    {'id': 155320, 'title': {'romaji': 'Sheng Tang'}},\n",
       "    {'id': 155319, 'title': {'romaji': 'Shen Mu 2'}},\n",
       "    {'id': 155316, 'title': {'romaji': 'Yanshi Chuanshuo'}},\n",
       "    {'id': 155315, 'title': {'romaji': 'Jin Can Wangshi'}},\n",
       "    {'id': 155314,\n",
       "     'title': {'romaji': 'Shaonian Ge Xing: Haiwai Xianshan Pian'}},\n",
       "    {'id': 155313, 'title': {'romaji': 'Shenzu'}},\n",
       "    {'id': 155312, 'title': {'romaji': 'Wu Huang'}},\n",
       "    {'id': 155311, 'title': {'romaji': 'Shanhai Jing Mima'}},\n",
       "    {'id': 155310, 'title': {'romaji': 'Bu Bai Xian Di'}},\n",
       "    {'id': 155309, 'title': {'romaji': 'Jiu Tian Jian Xian'}},\n",
       "    {'id': 155308, 'title': {'romaji': 'Da Tianzun'}},\n",
       "    {'id': 155307, 'title': {'romaji': 'Tian Jin Xiangyao Lu'}},\n",
       "    {'id': 155306, 'title': {'romaji': 'Jipin Tianshi'}},\n",
       "    {'id': 155304, 'title': {'romaji': 'Xiuxianzhe Dazhan Chaonengli'}},\n",
       "    {'id': 155303, 'title': {'romaji': 'Tian Xiang'}},\n",
       "    {'id': 155302, 'title': {'romaji': 'Zhen Yang Wushen'}},\n",
       "    {'id': 155291, 'title': {'romaji': 'KJ File (Zoku-hen)'}},\n",
       "    {'id': 155276, 'title': {'romaji': 'WONDER LiGHT'}},\n",
       "    {'id': 155254, 'title': {'romaji': 'Shenming Zhi Zhou 2'}},\n",
       "    {'id': 155253, 'title': {'romaji': 'Tiantian Chengzhang Ji 4'}},\n",
       "    {'id': 155252, 'title': {'romaji': 'Tiantian Chengzhang Ji 3'}},\n",
       "    {'id': 155249, 'title': {'romaji': 'Tiantian Chengzhang Ji 2'}},\n",
       "    {'id': 155247, 'title': {'romaji': 'Tiantian Chengzhang Ji'}},\n",
       "    {'id': 155244, 'title': {'romaji': 'Chang Yuan Tu'}},\n",
       "    {'id': 155227, 'title': {'romaji': 'Kingdom 5th Season'}},\n",
       "    {'id': 155223,\n",
       "     'title': {'romaji': 'Jian Wang 3: Xia Gan Yi Dan Shen Jianxin 3 Part 2'}},\n",
       "    {'id': 155222, 'title': {'romaji': 'Wanmei Shijie 3'}},\n",
       "    {'id': 155221, 'title': {'romaji': 'Cang Lan Jue Part 2'}},\n",
       "    {'id': 155220,\n",
       "     'title': {'romaji': 'Shaonian Bai Ma Zui Chun Feng Part 2'}},\n",
       "    {'id': 155211,\n",
       "     'title': {'romaji': 'Dungeon ni Deai wo Motomeru no wa Machigatteiru Darou ka IV: Fuka Shou Yakusai-hen'}},\n",
       "    {'id': 155209, 'title': {'romaji': 'Battou'}},\n",
       "    {'id': 155207, 'title': {'romaji': 'Nee yo na'}},\n",
       "    {'id': 155206, 'title': {'romaji': 'Nee yo na'}}]}}}"
      ]
     },
     "execution_count": 46,
     "metadata": {},
     "output_type": "execute_result"
    }
   ],
   "source": [
    "import requests\n",
    "\n",
    "query = '''\n",
    "query ($page: Int, $perPage: Int) {\n",
    "    Page (page: $page, perPage: $perPage) {\n",
    "        pageInfo {\n",
    "            total\n",
    "            currentPage\n",
    "            lastPage\n",
    "            hasNextPage\n",
    "            perPage\n",
    "        }\n",
    "        media (sort: ID_DESC, type: ANIME) {\n",
    "            id\n",
    "            title {\n",
    "                romaji\n",
    "            }\n",
    "        }\n",
    "    }\n",
    "}\n",
    "'''\n",
    "variables = {\n",
    "    'page': 1,\n",
    "    'perPage': 50,\n",
    "}\n",
    "url = 'https://graphql.anilist.co'\n",
    "\n",
    "requests.post(url, json={'query': query, 'variables': variables}).json()"
   ]
  },
  {
   "cell_type": "code",
   "execution_count": 58,
   "id": "6203f4af-2da2-45f9-936a-f0ed99d5b9e8",
   "metadata": {},
   "outputs": [
    {
     "data": {
      "text/plain": [
       "{'Date': 'Tue, 04 Oct 2022 21:22:14 GMT', 'Content-Type': 'application/json', 'Transfer-Encoding': 'chunked', 'Connection': 'keep-alive', 'Cache-Control': 'no-cache, private', 'X-RateLimit-Limit': '90', 'X-RateLimit-Remaining': '86', 'Set-Cookie': 'laravel_session=2N5wBMfUS7jtsDpTPc7HQX35ZwL5w5VJQ589I75V; expires=Wed, 05-Oct-2022 09:22:14 GMT; Max-Age=43200; path=/; httponly', 'X-Frame-Options': 'SAMEORIGIN', 'X-XSS-Protection': '1; mode=block', 'X-Content-Type-Options': 'nosniff', 'Access-Control-Allow-Origin': '*', 'Access-Control-Allow-Methods': 'GET, POST, OPTIONS', 'Access-Control-Allow-Headers': 'Authorization,Accept,DNT,X-CustomHeader,Keep-Alive,User-Agent,X-Requested-With,If-Modified-Since,Cache-Control,Content-Type,Content-Range,Range', 'Access-Control-Expose-Headers': 'X-RateLimit-Limit, X-RateLimit-Remaining, X-RateLimit-Reset, Content-Length, Content-Range', 'CF-Cache-Status': 'DYNAMIC', 'Report-To': '{\"endpoints\":[{\"url\":\"https:\\\\/\\\\/a.nel.cloudflare.com\\\\/report\\\\/v3?s=tx%2BmmPS9XAyLayy4j22uVww1zgDgRHJEw3b5QF%2FTeamXjaWMlKKvFqPh3dW2pTR2P45sU4WV%2Bt%2BSsFl96vT5eLMB2lda4V%2BIP6eP5qHWzm2mPP1fwH49zyaiL7XxuBXCcZet6A%3D%3D\"}],\"group\":\"cf-nel\",\"max_age\":604800}', 'NEL': '{\"success_fraction\":0,\"report_to\":\"cf-nel\",\"max_age\":604800}', 'Server': 'cloudflare', 'CF-RAY': '7550f8c9bcbbbbfe-FRA', 'Content-Encoding': 'br'}"
      ]
     },
     "execution_count": 58,
     "metadata": {},
     "output_type": "execute_result"
    }
   ],
   "source": [
    "requests.post(url, json={'query': query, 'variables': variables}).headers"
   ]
  },
  {
   "cell_type": "code",
   "execution_count": 28,
   "id": "189501ee-54a8-49c8-a173-10e2d691fd91",
   "metadata": {},
   "outputs": [
    {
     "data": {
      "text/plain": [
       "{'data': {'Page': {'pageInfo': {'total': 5000,\n",
       "    'currentPage': 1,\n",
       "    'lastPage': 1000,\n",
       "    'hasNextPage': True,\n",
       "    'perPage': 5},\n",
       "   'media': [{'id': 1, 'title': {'romaji': 'Cowboy Bebop'}},\n",
       "    {'id': 5, 'title': {'romaji': 'Cowboy Bebop: Tengoku no Tobira'}},\n",
       "    {'id': 6, 'title': {'romaji': 'TRIGUN'}},\n",
       "    {'id': 7, 'title': {'romaji': 'Witch Hunter ROBIN'}},\n",
       "    {'id': 8, 'title': {'romaji': 'Bouken Ou Beet'}}]}}}"
      ]
     },
     "execution_count": 28,
     "metadata": {},
     "output_type": "execute_result"
    }
   ],
   "source": [
    "query = '''\n",
    "query ($page: Int, $perPage: Int) {\n",
    "    Page (page: $page, perPage: $perPage) {\n",
    "        pageInfo {\n",
    "            total\n",
    "            currentPage\n",
    "            lastPage\n",
    "            hasNextPage\n",
    "            perPage\n",
    "        }\n",
    "        media (sort: ID, type: ANIME) {\n",
    "            id\n",
    "            title {\n",
    "                romaji\n",
    "            }\n",
    "        }\n",
    "    }\n",
    "}\n",
    "'''\n",
    "variables = {\n",
    "    'page': 1,\n",
    "    'perPage': 5,\n",
    "}\n",
    "url = 'https://graphql.anilist.co'\n",
    "\n",
    "requests.post(url, json={'query': query, 'variables': variables}).json()"
   ]
  },
  {
   "cell_type": "code",
   "execution_count": 27,
   "id": "90312789-d005-40b7-bacc-b36d2e3563cd",
   "metadata": {},
   "outputs": [],
   "source": [
    "media = lambda id: str.format('''\n",
    "    media_{0}: Media (id: $id_{0}) {{\n",
    "        coverImage {{\n",
    "          large,\n",
    "          color\n",
    "        }}\n",
    "        description,\n",
    "        title {{\n",
    "            english,\n",
    "            romaji\n",
    "        }}\n",
    "    }}\n",
    "''', id)"
   ]
  },
  {
   "cell_type": "code",
   "execution_count": 9,
   "id": "35bd9689-93a2-4257-8806-353e3bd0955a",
   "metadata": {},
   "outputs": [],
   "source": [
    "query = lambda idx: str.format('''\n",
    "query ({0}) {{\n",
    "    {1}\n",
    "}}\n",
    "''', ', '.join([f'$id_{id}: Int' for id in idx]), ''.join([media(id) for id in idx]))"
   ]
  },
  {
   "cell_type": "code",
   "execution_count": 17,
   "id": "c434ae2e-c35f-4a60-93d4-9b0099c9a30e",
   "metadata": {},
   "outputs": [],
   "source": [
    "variables = lambda idx: {f'id_{id}': id for id in idx}"
   ]
  },
  {
   "cell_type": "code",
   "execution_count": 32,
   "id": "141ca49b-ed48-45e9-a0d3-88064b240ac4",
   "metadata": {},
   "outputs": [],
   "source": [
    "import pandas as pd"
   ]
  },
  {
   "cell_type": "code",
   "execution_count": 40,
   "id": "3faca74a-0842-493f-aa7c-1a1c9b3e8560",
   "metadata": {},
   "outputs": [
    {
     "data": {
      "text/html": [
       "<div>\n",
       "<style scoped>\n",
       "    .dataframe tbody tr th:only-of-type {\n",
       "        vertical-align: middle;\n",
       "    }\n",
       "\n",
       "    .dataframe tbody tr th {\n",
       "        vertical-align: top;\n",
       "    }\n",
       "\n",
       "    .dataframe thead th {\n",
       "        text-align: right;\n",
       "    }\n",
       "</style>\n",
       "<table border=\"1\" class=\"dataframe\">\n",
       "  <thead>\n",
       "    <tr style=\"text-align: right;\">\n",
       "      <th></th>\n",
       "      <th>cover_image</th>\n",
       "      <th>color</th>\n",
       "      <th>description</th>\n",
       "      <th>title</th>\n",
       "    </tr>\n",
       "  </thead>\n",
       "  <tbody>\n",
       "    <tr>\n",
       "      <th>0</th>\n",
       "      <td>https://s4.anilist.co/file/anilistcdn/media/an...</td>\n",
       "      <td>#f1785d</td>\n",
       "      <td>Enter a world in the distant future, where Bou...</td>\n",
       "      <td>Cowboy Bebop</td>\n",
       "    </tr>\n",
       "  </tbody>\n",
       "</table>\n",
       "</div>"
      ],
      "text/plain": [
       "                                         cover_image    color  \\\n",
       "0  https://s4.anilist.co/file/anilistcdn/media/an...  #f1785d   \n",
       "\n",
       "                                         description         title  \n",
       "0  Enter a world in the distant future, where Bou...  Cowboy Bebop  "
      ]
     },
     "execution_count": 40,
     "metadata": {},
     "output_type": "execute_result"
    }
   ],
   "source": [
    "pd.DataFrame(res)"
   ]
  },
  {
   "cell_type": "code",
   "execution_count": 39,
   "id": "b748119d-ad1a-4059-afd3-b8e6347b9561",
   "metadata": {},
   "outputs": [],
   "source": [
    "res = [\n",
    "    {\n",
    "        'cover_image': v['coverImage']['large'],\n",
    "        'color': v['coverImage']['color'],\n",
    "        'description': v['description'],\n",
    "        'title': v['title']['english'] if v['title']['english'] else v['title']['romaji'],\n",
    "     } \n",
    "    for v in response.json()['data'].values()\n",
    "]"
   ]
  },
  {
   "cell_type": "code",
   "execution_count": 38,
   "id": "3d78497f-b34a-4386-a3cd-b5d081f3cc10",
   "metadata": {
    "tags": []
   },
   "outputs": [
    {
     "data": {
      "text/plain": [
       "{'data': {'media_1': {'coverImage': {'large': 'https://s4.anilist.co/file/anilistcdn/media/anime/cover/medium/bx1-CXtrrkMpJ8Zq.png',\n",
       "    'color': '#f1785d'},\n",
       "   'description': 'Enter a world in the distant future, where Bounty Hunters roam the solar system. Spike and Jet, bounty hunting partners, set out on journeys in an ever struggling effort to win bounty rewards to survive.<br><br>\\nWhile traveling, they meet up with other very interesting people. Could Faye, the beautiful and ridiculously poor gambler, Edward, the computer genius, and Ein, the engineered dog be a good addition to the group?',\n",
       "   'title': {'english': 'Cowboy Bebop', 'romaji': 'Cowboy Bebop'}}}}"
      ]
     },
     "execution_count": 38,
     "metadata": {},
     "output_type": "execute_result"
    }
   ],
   "source": [
    "url = 'https://graphql.anilist.co'\n",
    "idx = [1]\n",
    "\n",
    "response = requests.post(url, json={'query': query(idx), 'variables': variables(idx)})\n",
    "\n",
    "response.json()"
   ]
  },
  {
   "cell_type": "code",
   "execution_count": 1,
   "id": "e5f453f8-3059-4e54-b996-2240f4b84490",
   "metadata": {},
   "outputs": [
    {
     "name": "stdout",
     "output_type": "stream",
     "text": [
      "C:\\Users\\alimu\\PycharmProjects\\anime_recommender\n"
     ]
    }
   ],
   "source": [
    "%cd .."
   ]
  },
  {
   "cell_type": "code",
   "execution_count": 2,
   "id": "137529ad-5fe3-4a93-b606-813bd7bd944a",
   "metadata": {},
   "outputs": [],
   "source": [
    "import sys\n",
    "sys.path.insert(1, '../anime_recommender/')"
   ]
  },
  {
   "cell_type": "code",
   "execution_count": 3,
   "id": "8637ce3a-bd60-4062-8674-7fe453234936",
   "metadata": {},
   "outputs": [],
   "source": [
    "from anime_recommender import client"
   ]
  },
  {
   "cell_type": "code",
   "execution_count": 4,
   "id": "9490b97d-624e-42a5-8525-1346f2c6de05",
   "metadata": {},
   "outputs": [
    {
     "ename": "DispatchError",
     "evalue": "('get_media_info: 0 methods found', (<class 'int'>,), [])",
     "output_type": "error",
     "traceback": [
      "\u001b[1;31m---------------------------------------------------------------------------\u001b[0m",
      "\u001b[1;31mDispatchError\u001b[0m                             Traceback (most recent call last)",
      "\u001b[1;32m~\\AppData\\Local\\Temp/ipykernel_5832/2655324020.py\u001b[0m in \u001b[0;36m<module>\u001b[1;34m\u001b[0m\n\u001b[1;32m----> 1\u001b[1;33m \u001b[0mclient\u001b[0m\u001b[1;33m.\u001b[0m\u001b[0mAnilistClient\u001b[0m\u001b[1;33m.\u001b[0m\u001b[0mget_media_info\u001b[0m\u001b[1;33m(\u001b[0m\u001b[1;36m1\u001b[0m\u001b[1;33m)\u001b[0m\u001b[1;33m\u001b[0m\u001b[1;33m\u001b[0m\u001b[0m\n\u001b[0m",
      "\u001b[1;32m~\\AppData\\Roaming\\Python\\Python39\\site-packages\\multimethod\\__init__.py\u001b[0m in \u001b[0;36m__call__\u001b[1;34m(self, *args, **kwargs)\u001b[0m\n\u001b[0;32m    296\u001b[0m         \u001b[1;32mif\u001b[0m \u001b[0mself\u001b[0m\u001b[1;33m.\u001b[0m\u001b[0mpending\u001b[0m\u001b[1;33m:\u001b[0m  \u001b[1;31m# check first to avoid function call\u001b[0m\u001b[1;33m\u001b[0m\u001b[1;33m\u001b[0m\u001b[0m\n\u001b[0;32m    297\u001b[0m             \u001b[0mself\u001b[0m\u001b[1;33m.\u001b[0m\u001b[0mevaluate\u001b[0m\u001b[1;33m(\u001b[0m\u001b[1;33m)\u001b[0m\u001b[1;33m\u001b[0m\u001b[1;33m\u001b[0m\u001b[0m\n\u001b[1;32m--> 298\u001b[1;33m         \u001b[0mfunc\u001b[0m \u001b[1;33m=\u001b[0m \u001b[0mself\u001b[0m\u001b[1;33m[\u001b[0m\u001b[0mtuple\u001b[0m\u001b[1;33m(\u001b[0m\u001b[0mfunc\u001b[0m\u001b[1;33m(\u001b[0m\u001b[0marg\u001b[0m\u001b[1;33m)\u001b[0m \u001b[1;32mfor\u001b[0m \u001b[0mfunc\u001b[0m\u001b[1;33m,\u001b[0m \u001b[0marg\u001b[0m \u001b[1;32min\u001b[0m \u001b[0mzip\u001b[0m\u001b[1;33m(\u001b[0m\u001b[0mself\u001b[0m\u001b[1;33m.\u001b[0m\u001b[0mtype_checkers\u001b[0m\u001b[1;33m,\u001b[0m \u001b[0margs\u001b[0m\u001b[1;33m)\u001b[0m\u001b[1;33m)\u001b[0m\u001b[1;33m]\u001b[0m\u001b[1;33m\u001b[0m\u001b[1;33m\u001b[0m\u001b[0m\n\u001b[0m\u001b[0;32m    299\u001b[0m         \u001b[1;32mtry\u001b[0m\u001b[1;33m:\u001b[0m\u001b[1;33m\u001b[0m\u001b[1;33m\u001b[0m\u001b[0m\n\u001b[0;32m    300\u001b[0m             \u001b[1;32mreturn\u001b[0m \u001b[0mfunc\u001b[0m\u001b[1;33m(\u001b[0m\u001b[1;33m*\u001b[0m\u001b[0margs\u001b[0m\u001b[1;33m,\u001b[0m \u001b[1;33m**\u001b[0m\u001b[0mkwargs\u001b[0m\u001b[1;33m)\u001b[0m\u001b[1;33m\u001b[0m\u001b[1;33m\u001b[0m\u001b[0m\n",
      "\u001b[1;32m~\\AppData\\Roaming\\Python\\Python39\\site-packages\\multimethod\\__init__.py\u001b[0m in \u001b[0;36m__missing__\u001b[1;34m(self, types)\u001b[0m\n\u001b[0;32m    290\u001b[0m             \u001b[1;32mreturn\u001b[0m \u001b[0mself\u001b[0m\u001b[1;33m.\u001b[0m\u001b[0msetdefault\u001b[0m\u001b[1;33m(\u001b[0m\u001b[0mtypes\u001b[0m\u001b[1;33m,\u001b[0m \u001b[1;33m*\u001b[0m\u001b[0mfuncs\u001b[0m\u001b[1;33m)\u001b[0m\u001b[1;33m\u001b[0m\u001b[1;33m\u001b[0m\u001b[0m\n\u001b[0;32m    291\u001b[0m         \u001b[0mmsg\u001b[0m \u001b[1;33m=\u001b[0m \u001b[1;34mf\"{self.__name__}: {len(keys)} methods found\"\u001b[0m  \u001b[1;31m# type: ignore\u001b[0m\u001b[1;33m\u001b[0m\u001b[1;33m\u001b[0m\u001b[0m\n\u001b[1;32m--> 292\u001b[1;33m         \u001b[1;32mraise\u001b[0m \u001b[0mDispatchError\u001b[0m\u001b[1;33m(\u001b[0m\u001b[0mmsg\u001b[0m\u001b[1;33m,\u001b[0m \u001b[0mtypes\u001b[0m\u001b[1;33m,\u001b[0m \u001b[0mkeys\u001b[0m\u001b[1;33m)\u001b[0m\u001b[1;33m\u001b[0m\u001b[1;33m\u001b[0m\u001b[0m\n\u001b[0m\u001b[0;32m    293\u001b[0m \u001b[1;33m\u001b[0m\u001b[0m\n\u001b[0;32m    294\u001b[0m     \u001b[1;32mdef\u001b[0m \u001b[0m__call__\u001b[0m\u001b[1;33m(\u001b[0m\u001b[0mself\u001b[0m\u001b[1;33m,\u001b[0m \u001b[1;33m*\u001b[0m\u001b[0margs\u001b[0m\u001b[1;33m,\u001b[0m \u001b[1;33m**\u001b[0m\u001b[0mkwargs\u001b[0m\u001b[1;33m)\u001b[0m\u001b[1;33m:\u001b[0m\u001b[1;33m\u001b[0m\u001b[1;33m\u001b[0m\u001b[0m\n",
      "\u001b[1;31mDispatchError\u001b[0m: ('get_media_info: 0 methods found', (<class 'int'>,), [])"
     ]
    }
   ],
   "source": [
    "client.AnilistClient.get_media_info(1)"
   ]
  },
  {
   "cell_type": "code",
   "execution_count": 5,
   "id": "874fedfb-82d5-4d12-8da0-2777f8f8cf77",
   "metadata": {},
   "outputs": [
    {
     "data": {
      "text/plain": [
       "[1, 20]"
      ]
     },
     "execution_count": 5,
     "metadata": {},
     "output_type": "execute_result"
    }
   ],
   "source": [
    "client.AnilistClient.get_media_info([1, 20])"
   ]
  },
  {
   "cell_type": "code",
   "execution_count": 10,
   "id": "e6d35080-f66d-4b8f-acec-f00661e89258",
   "metadata": {},
   "outputs": [
    {
     "data": {
      "text/plain": [
       "{'id': 616938, 'name': 'AlimU'}"
      ]
     },
     "execution_count": 10,
     "metadata": {},
     "output_type": "execute_result"
    }
   ],
   "source": [
    "query = '''\n",
    "query ($name: String) {\n",
    "    User(name: $name) {\n",
    "        id,\n",
    "        name\n",
    "    }\n",
    "}\n",
    "'''\n",
    "\n",
    "variables = {\n",
    "    'name': 'AlimU', # caps\n",
    "}\n",
    "\n",
    "url = 'https://graphql.anilist.co'\n",
    "\n",
    "requests.post(url, json={'query': query, 'variables': {'name': 'AlimU'}}).json()['data']['User']"
   ]
  },
  {
   "cell_type": "code",
   "execution_count": 12,
   "id": "00af127d-e87b-4fbd-9126-38617d28a094",
   "metadata": {},
   "outputs": [],
   "source": [
    "query = '''\n",
    "query ($id: Int) {\n",
    "    MediaListCollection(userId: $id, type: ANIME, forceSingleCompletedList: true) {\n",
    "        hasNextChunk\n",
    "        user {\n",
    "            id\n",
    "        }\n",
    "        lists {\n",
    "            name,\n",
    "            isCustomList,\n",
    "            entries {\n",
    "                mediaId,\n",
    "                score\n",
    "              }\n",
    "        }\n",
    "    }\n",
    "}\n",
    "'''\n",
    "\n",
    "variables = {\n",
    "    'id': '616938',\n",
    "}\n",
    "\n",
    "url = 'https://graphql.anilist.co'\n",
    "\n",
    "res = requests.post(url, json={'query': query, 'variables': variables}).json()"
   ]
  },
  {
   "cell_type": "code",
   "execution_count": 21,
   "id": "6bab218e-8ea2-4206-8c8f-f746ade09e6e",
   "metadata": {
    "collapsed": true,
    "jupyter": {
     "outputs_hidden": true
    },
    "tags": []
   },
   "outputs": [
    {
     "data": {
      "text/plain": [
       "[[100526, 0],\n",
       " [6547, 0],\n",
       " [20755, 0],\n",
       " [112479, 0],\n",
       " [100388, 0],\n",
       " [20031, 0],\n",
       " [15225, 0],\n",
       " [108463, 0],\n",
       " [20458, 0],\n",
       " [112301, 0],\n",
       " [101340, 0],\n",
       " [19221, 0],\n",
       " [111965, 0],\n",
       " [107871, 0],\n",
       " [108632, 0],\n",
       " [125124, 0],\n",
       " [11499, 0],\n",
       " [99629, 0],\n",
       " [3667, 0],\n",
       " [20698, 0],\n",
       " [18677, 0],\n",
       " [100635, 0],\n",
       " [21290, 0],\n",
       " [113585, 0],\n",
       " [20704, 0],\n",
       " [98596, 0],\n",
       " [98491, 0],\n",
       " [21495, 0],\n",
       " [21359, 0],\n",
       " [113231, 0],\n",
       " [101168, 0],\n",
       " [124131, 0],\n",
       " [111323, 0],\n",
       " [119123, 0],\n",
       " [110446, 0],\n",
       " [107693, 0],\n",
       " [113286, 0],\n",
       " [105914, 0],\n",
       " [111324, 0],\n",
       " [112033, 0],\n",
       " [115740, 0],\n",
       " [7817, 0],\n",
       " [114085, 0],\n",
       " [20657, 0],\n",
       " [97617, 0],\n",
       " [118376, 0],\n",
       " [97932, 0],\n",
       " [6512, 0],\n",
       " [21518, 0],\n",
       " [104937, 0],\n",
       " [110200, 0],\n",
       " [110371, 0],\n",
       " [21365, 0],\n",
       " [114340, 0],\n",
       " [98951, 0],\n",
       " [100382, 0],\n",
       " [111137, 0],\n",
       " [15125, 0],\n",
       " [106479, 0],\n",
       " [117696, 0],\n",
       " [116173, 0],\n",
       " [123785, 0],\n",
       " [114307, 0],\n",
       " [110632, 0],\n",
       " [114263, 0],\n",
       " [114301, 0],\n",
       " [122807, 0],\n",
       " [118375, 0],\n",
       " [117757, 0],\n",
       " [116267, 0],\n",
       " [105074, 0],\n",
       " [21818, 0],\n",
       " [106503, 0],\n",
       " [116242, 0],\n",
       " [21686, 0],\n",
       " [123779, 0],\n",
       " [124858, 0],\n",
       " [115183, 0],\n",
       " [114840, 0],\n",
       " [114232, 0],\n",
       " [128547, 0],\n",
       " [126791, 0],\n",
       " [112376, 0],\n",
       " [123802, 0],\n",
       " [129814, 0],\n",
       " [129386, 0],\n",
       " [122348, 0],\n",
       " [120859, 0],\n",
       " [113418, 0],\n",
       " [120376, 0],\n",
       " [113428, 0],\n",
       " [116589, 0],\n",
       " [112608, 0],\n",
       " [120120, 0],\n",
       " [120534, 0],\n",
       " [124675, 0],\n",
       " [124786, 0],\n",
       " [133844, 0],\n",
       " [21776, 0],\n",
       " [107420, 0],\n",
       " [20994, 0],\n",
       " [131150, 0],\n",
       " [131565, 0],\n",
       " [122441, 0],\n",
       " [125446, 0],\n",
       " [126192, 0],\n",
       " [129277, 0],\n",
       " [128712, 0],\n",
       " [117612, 0],\n",
       " [126546, 0],\n",
       " [114065, 0],\n",
       " [130549, 0],\n",
       " [131584, 0],\n",
       " [125206, 0],\n",
       " [114302, 0],\n",
       " [101506, 0],\n",
       " [117989, 0],\n",
       " [130997, 0],\n",
       " [125868, 0],\n",
       " [118103, 0],\n",
       " [114979, 0],\n",
       " [137877, 0],\n",
       " [133965, 0],\n",
       " [132525, 0],\n",
       " [131005, 0],\n",
       " [126793, 0],\n",
       " [132473, 0],\n",
       " [131878, 0],\n",
       " [132071, 0],\n",
       " [87502, 0],\n",
       " [108987, 0],\n",
       " [133411, 0],\n",
       " [120646, 0],\n",
       " [126897, 0],\n",
       " [127412, 0],\n",
       " [129068, 0],\n",
       " [127401, 0],\n",
       " [136947, 0],\n",
       " [109745, 0],\n",
       " [105119, 0],\n",
       " [126790, 0],\n",
       " [129190, 0],\n",
       " [126288, 0],\n",
       " [130166, 0],\n",
       " [124060, 0],\n",
       " [128034, 0],\n",
       " [128828, 0],\n",
       " [140643, 0],\n",
       " [127050, 0],\n",
       " [101705, 0],\n",
       " [121176, 0],\n",
       " [129191, 0],\n",
       " [127549, 0],\n",
       " [139804, 0],\n",
       " [136428, 0],\n",
       " [140502, 0],\n",
       " [127911, 0],\n",
       " [137281, 0],\n",
       " [17831, 0],\n",
       " [132010, 0],\n",
       " [132474, 0],\n",
       " [133175, 0],\n",
       " [130586, 0],\n",
       " [140457, 0],\n",
       " [132532, 0],\n",
       " [142074, 0],\n",
       " [132052, 0],\n",
       " [138459, 0],\n",
       " [133412, 0],\n",
       " [140830, 0],\n",
       " [130319, 0],\n",
       " [132351, 0],\n",
       " [130592, 0],\n",
       " [136934, 0],\n",
       " [146210, 0],\n",
       " [143270, 0],\n",
       " [138882, 0]]"
      ]
     },
     "execution_count": 21,
     "metadata": {},
     "output_type": "execute_result"
    }
   ],
   "source": [
    "[[i['mediaId'], i['score']] for i in res['data']['MediaListCollection']['lists'][0]['entries']]"
   ]
  },
  {
   "cell_type": "code",
   "execution_count": 25,
   "id": "847ae5d0-5b59-4caa-add6-0e25c2146854",
   "metadata": {
    "tags": []
   },
   "outputs": [],
   "source": [
    "res_dict = {i['name']: [[j['mediaId'], j['score']] for j in i['entries']] for i in res['data']['MediaListCollection']['lists'] if not i['isCustomList']}"
   ]
  },
  {
   "cell_type": "code",
   "execution_count": 27,
   "id": "51c365ef-e296-48c1-b14a-c197ec4ae2db",
   "metadata": {},
   "outputs": [
    {
     "data": {
      "text/plain": [
       "[[100526, 0],\n",
       " [6547, 0],\n",
       " [20755, 0],\n",
       " [112479, 0],\n",
       " [100388, 0],\n",
       " [20031, 0],\n",
       " [15225, 0],\n",
       " [108463, 0],\n",
       " [20458, 0],\n",
       " [112301, 0],\n",
       " [101340, 0],\n",
       " [19221, 0],\n",
       " [111965, 0],\n",
       " [107871, 0],\n",
       " [108632, 0],\n",
       " [125124, 0],\n",
       " [11499, 0],\n",
       " [99629, 0],\n",
       " [3667, 0],\n",
       " [20698, 0],\n",
       " [18677, 0],\n",
       " [100635, 0],\n",
       " [21290, 0],\n",
       " [113585, 0],\n",
       " [20704, 0],\n",
       " [98596, 0],\n",
       " [98491, 0],\n",
       " [21495, 0],\n",
       " [21359, 0],\n",
       " [113231, 0],\n",
       " [101168, 0],\n",
       " [124131, 0],\n",
       " [111323, 0],\n",
       " [119123, 0],\n",
       " [110446, 0],\n",
       " [107693, 0],\n",
       " [113286, 0],\n",
       " [105914, 0],\n",
       " [111324, 0],\n",
       " [112033, 0],\n",
       " [115740, 0],\n",
       " [7817, 0],\n",
       " [114085, 0],\n",
       " [20657, 0],\n",
       " [97617, 0],\n",
       " [118376, 0],\n",
       " [97932, 0],\n",
       " [6512, 0],\n",
       " [21518, 0],\n",
       " [104937, 0],\n",
       " [110200, 0],\n",
       " [110371, 0],\n",
       " [21365, 0],\n",
       " [114340, 0],\n",
       " [98951, 0],\n",
       " [100382, 0],\n",
       " [111137, 0],\n",
       " [15125, 0],\n",
       " [106479, 0],\n",
       " [117696, 0],\n",
       " [116173, 0],\n",
       " [123785, 0],\n",
       " [114307, 0],\n",
       " [110632, 0],\n",
       " [114263, 0],\n",
       " [114301, 0],\n",
       " [122807, 0],\n",
       " [118375, 0],\n",
       " [117757, 0],\n",
       " [116267, 0],\n",
       " [105074, 0],\n",
       " [21818, 0],\n",
       " [106503, 0],\n",
       " [116242, 0],\n",
       " [21686, 0],\n",
       " [123779, 0],\n",
       " [124858, 0],\n",
       " [115183, 0],\n",
       " [114840, 0],\n",
       " [114232, 0],\n",
       " [128547, 0],\n",
       " [126791, 0],\n",
       " [112376, 0],\n",
       " [123802, 0],\n",
       " [129814, 0],\n",
       " [129386, 0],\n",
       " [122348, 0],\n",
       " [120859, 0],\n",
       " [113418, 0],\n",
       " [120376, 0],\n",
       " [113428, 0],\n",
       " [116589, 0],\n",
       " [112608, 0],\n",
       " [120120, 0],\n",
       " [120534, 0],\n",
       " [124675, 0],\n",
       " [124786, 0],\n",
       " [133844, 0],\n",
       " [21776, 0],\n",
       " [107420, 0],\n",
       " [20994, 0],\n",
       " [131150, 0],\n",
       " [131565, 0],\n",
       " [122441, 0],\n",
       " [125446, 0],\n",
       " [126192, 0],\n",
       " [129277, 0],\n",
       " [128712, 0],\n",
       " [117612, 0],\n",
       " [126546, 0],\n",
       " [114065, 0],\n",
       " [130549, 0],\n",
       " [131584, 0],\n",
       " [125206, 0],\n",
       " [114302, 0],\n",
       " [101506, 0],\n",
       " [117989, 0],\n",
       " [130997, 0],\n",
       " [125868, 0],\n",
       " [118103, 0],\n",
       " [114979, 0],\n",
       " [137877, 0],\n",
       " [133965, 0],\n",
       " [132525, 0],\n",
       " [131005, 0],\n",
       " [126793, 0],\n",
       " [132473, 0],\n",
       " [131878, 0],\n",
       " [132071, 0],\n",
       " [87502, 0],\n",
       " [108987, 0],\n",
       " [133411, 0],\n",
       " [120646, 0],\n",
       " [126897, 0],\n",
       " [127412, 0],\n",
       " [129068, 0],\n",
       " [127401, 0],\n",
       " [136947, 0],\n",
       " [109745, 0],\n",
       " [105119, 0],\n",
       " [126790, 0],\n",
       " [129190, 0],\n",
       " [126288, 0],\n",
       " [130166, 0],\n",
       " [124060, 0],\n",
       " [128034, 0],\n",
       " [128828, 0],\n",
       " [140643, 0],\n",
       " [127050, 0],\n",
       " [101705, 0],\n",
       " [121176, 0],\n",
       " [129191, 0],\n",
       " [127549, 0],\n",
       " [139804, 0],\n",
       " [136428, 0],\n",
       " [140502, 0],\n",
       " [127911, 0],\n",
       " [137281, 0],\n",
       " [17831, 0],\n",
       " [132010, 0],\n",
       " [132474, 0],\n",
       " [133175, 0],\n",
       " [130586, 0],\n",
       " [140457, 0],\n",
       " [132532, 0],\n",
       " [142074, 0],\n",
       " [132052, 0],\n",
       " [138459, 0],\n",
       " [133412, 0],\n",
       " [140830, 0],\n",
       " [130319, 0],\n",
       " [132351, 0],\n",
       " [130592, 0],\n",
       " [136934, 0],\n",
       " [146210, 0],\n",
       " [143270, 0],\n",
       " [138882, 0]]"
      ]
     },
     "execution_count": 27,
     "metadata": {},
     "output_type": "execute_result"
    }
   ],
   "source": [
    "res_dict['Dropped']"
   ]
  },
  {
   "cell_type": "code",
   "execution_count": 26,
   "id": "89694af3-d751-4b6b-96ea-85e229929c85",
   "metadata": {},
   "outputs": [
    {
     "data": {
      "text/plain": [
       "dict_keys(['Dropped', 'Completed', 'Planning', 'Watching', 'Rewatching'])"
      ]
     },
     "execution_count": 26,
     "metadata": {},
     "output_type": "execute_result"
    }
   ],
   "source": [
    "res_dict.keys()"
   ]
  },
  {
   "cell_type": "code",
   "execution_count": 10,
   "id": "25d4ff0c-4ff8-4707-a8b7-e1131ac6271d",
   "metadata": {
    "tags": []
   },
   "outputs": [],
   "source": [
    "ids = [[i['mediaId'], i['score']] for i in [i for i in res['data']['MediaListCollection']['lists'] if i['name']=='Completed' and i['isCustomList'] is False][0]['entries']]"
   ]
  },
  {
   "cell_type": "code",
   "execution_count": 13,
   "id": "f4f357f8-13b0-4ac1-81e2-c9ca70f28bc9",
   "metadata": {},
   "outputs": [],
   "source": [
    "import pickle"
   ]
  },
  {
   "cell_type": "code",
   "execution_count": 14,
   "id": "31e232d4-23eb-4b67-a705-6cd5247c2009",
   "metadata": {},
   "outputs": [
    {
     "name": "stderr",
     "output_type": "stream",
     "text": [
      "Exception in callback BaseSelectorEventLoop._read_from_self()\n",
      "handle: <Handle BaseSelectorEventLoop._read_from_self()>\n",
      "Traceback (most recent call last):\n",
      "  File \"C:\\ProgramData\\Anaconda3\\envs\\env\\lib\\asyncio\\events.py\", line 80, in _run\n",
      "    self._context.run(self._callback, *self._args)\n",
      "  File \"C:\\ProgramData\\Anaconda3\\envs\\env\\lib\\asyncio\\selector_events.py\", line 115, in _read_from_self\n",
      "    data = self._ssock.recv(4096)\n",
      "ConnectionResetError: [WinError 10054] An existing connection was forcibly closed by the remote host\n",
      "Exception in callback BaseSelectorEventLoop._read_from_self()\n",
      "handle: <Handle BaseSelectorEventLoop._read_from_self()>\n",
      "Traceback (most recent call last):\n",
      "  File \"C:\\ProgramData\\Anaconda3\\envs\\env\\lib\\asyncio\\events.py\", line 80, in _run\n",
      "    self._context.run(self._callback, *self._args)\n",
      "  File \"C:\\ProgramData\\Anaconda3\\envs\\env\\lib\\asyncio\\selector_events.py\", line 115, in _read_from_self\n",
      "    data = self._ssock.recv(4096)\n",
      "ConnectionResetError: [WinError 10054] An existing connection was forcibly closed by the remote host\n",
      "Exception in callback BaseSelectorEventLoop._read_from_self()\n",
      "handle: <Handle BaseSelectorEventLoop._read_from_self()>\n",
      "Traceback (most recent call last):\n",
      "  File \"C:\\ProgramData\\Anaconda3\\envs\\env\\lib\\asyncio\\events.py\", line 80, in _run\n",
      "    self._context.run(self._callback, *self._args)\n",
      "  File \"C:\\ProgramData\\Anaconda3\\envs\\env\\lib\\asyncio\\selector_events.py\", line 115, in _read_from_self\n",
      "    data = self._ssock.recv(4096)\n",
      "ConnectionResetError: [WinError 10054] An existing connection was forcibly closed by the remote host\n",
      "Exception in callback BaseSelectorEventLoop._read_from_self()\n",
      "handle: <Handle BaseSelectorEventLoop._read_from_self()>\n",
      "Traceback (most recent call last):\n",
      "  File \"C:\\ProgramData\\Anaconda3\\envs\\env\\lib\\asyncio\\events.py\", line 80, in _run\n",
      "    self._context.run(self._callback, *self._args)\n",
      "  File \"C:\\ProgramData\\Anaconda3\\envs\\env\\lib\\asyncio\\selector_events.py\", line 115, in _read_from_self\n",
      "    data = self._ssock.recv(4096)\n",
      "ConnectionResetError: [WinError 10054] An existing connection was forcibly closed by the remote host\n"
     ]
    }
   ],
   "source": [
    "with open('id-score.pickle', 'wb') as f:\n",
    "    pickle.dump(ids, f)"
   ]
  },
  {
   "cell_type": "code",
   "execution_count": 46,
   "id": "eddd4f46-315e-4c01-8d0b-a6cb9bac1d31",
   "metadata": {},
   "outputs": [],
   "source": [
    "import pandas as pd"
   ]
  },
  {
   "cell_type": "code",
   "execution_count": 47,
   "id": "d7603958-3c8b-41b9-ba73-8819a187a355",
   "metadata": {},
   "outputs": [],
   "source": [
    "df = pd.read_csv('anilist_data_cleaned.csv')"
   ]
  },
  {
   "cell_type": "code",
   "execution_count": 51,
   "id": "ff9b8c4a-4014-4dd8-98c2-79d1264eeb8b",
   "metadata": {},
   "outputs": [
    {
     "data": {
      "text/plain": [
       "array([  470,   489,   704, ..., 16705, 16708, 16709], dtype=int64)"
      ]
     },
     "execution_count": 51,
     "metadata": {},
     "output_type": "execute_result"
    }
   ],
   "source": [
    "df[df['index'].isin(ids)].index.values"
   ]
  },
  {
   "cell_type": "code",
   "execution_count": 195,
   "id": "94ec113a-d62c-4e64-bb5b-d80dfa2f8bc0",
   "metadata": {},
   "outputs": [
    {
     "data": {
      "text/plain": [
       "{'data': {'Media': {'coverImage': {'large': 'https://s4.anilist.co/file/anilistcdn/media/anime/cover/medium/nx142-gcfapg9oM7Qv.jpg',\n",
       "    'color': '#fed650'},\n",
       "   'description': \"A normal looking high school girl on the outside, Kusakabe Maron is actually the reincarnation of Jeanne d' Arc. With the help of the angel, Fin Fish, Maron works as the thief Jeanne at night to seal the demons that reside in pieces of artwork, preying upon the weak hearts of the owners. She is branded as a thief due to the fact that the artworks disappear after she seals the demons. One day, a new neighbor and classmate appears, as well as a rival in her night job, the thief Sinbad. With her own best friend being the detective's daughter, out to capture her and the appearance of her new rival, Maron's work is anything but easy.\",\n",
       "   'title': {'english': None}}}}"
      ]
     },
     "execution_count": 195,
     "metadata": {},
     "output_type": "execute_result"
    }
   ],
   "source": [
    "query = '''\n",
    "query ($id: Int) {\n",
    "    Media(id: $id) {\n",
    "        coverImage {\n",
    "          large,\n",
    "          color\n",
    "        }\n",
    "        description,\n",
    "        title {\n",
    "            english\n",
    "        }\n",
    "    }\n",
    "}\n",
    "'''\n",
    "\n",
    "variables = {\n",
    "    'id': 142\n",
    "}\n",
    "url = 'https://graphql.anilist.co'\n",
    "\n",
    "response = requests.post(url, json={'query': query, 'variables': variables})\n",
    "response.json()"
   ]
  },
  {
   "cell_type": "code",
   "execution_count": 126,
   "id": "761d04de-fb7d-474a-8e0c-ee5f0076e260",
   "metadata": {},
   "outputs": [],
   "source": [
    "def get_info(idx):\n",
    "    query = '''\n",
    "    query ($id: Int) {\n",
    "        Media(id: $id) {\n",
    "            coverImage {\n",
    "              large,\n",
    "              color\n",
    "            }\n",
    "            description,\n",
    "            title {\n",
    "                english\n",
    "            }\n",
    "        }\n",
    "    }\n",
    "    '''\n",
    "\n",
    "    variables = {\n",
    "        'id': idx\n",
    "    }\n",
    "    url = 'https://graphql.anilist.co'\n",
    "    \n",
    "    response = requests.post(url, json={'query': query, 'variables': variables}).json()['data']['Media']\n",
    "    \n",
    "    if not response:\n",
    "        return {}\n",
    "    \n",
    "    return {\n",
    "            'cover_image': response['coverImage']['large'],\n",
    "            'color': response['coverImage']['color'],\n",
    "            'description': response['description'],\n",
    "            'title': response['title']['english'] if response['title']['english'] else response['title']['romaji'],\n",
    "           }"
   ]
  }
 ],
 "metadata": {
  "kernelspec": {
   "display_name": "Python 3.9 (env)",
   "language": "python",
   "name": "python_3.9"
  },
  "language_info": {
   "codemirror_mode": {
    "name": "ipython",
    "version": 3
   },
   "file_extension": ".py",
   "mimetype": "text/x-python",
   "name": "python",
   "nbconvert_exporter": "python",
   "pygments_lexer": "ipython3",
   "version": "3.9.7"
  }
 },
 "nbformat": 4,
 "nbformat_minor": 5
}
