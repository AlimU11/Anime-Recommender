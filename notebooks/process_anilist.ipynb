{
 "cells": [
  {
   "cell_type": "markdown",
   "id": "c5a1ff9f-83ec-4bc5-ab0a-132f9a42ca80",
   "metadata": {},
   "source": [
    "# This is a **cleared** version of notebook used during data preparation. Something may not work!"
   ]
  },
  {
   "cell_type": "code",
   "execution_count": 1,
   "id": "219b5709-f6b1-4408-afa6-a66a9ec65d1d",
   "metadata": {},
   "outputs": [],
   "source": [
    "import pickle\n",
    "import bs4\n",
    "\n",
    "from multiprocessing import Pool\n",
    "import istarmap\n",
    "import tqdm\n",
    "from parser import *"
   ]
  },
  {
   "cell_type": "code",
   "execution_count": 2,
   "id": "2d11ea05-8e4f-4e8a-9145-192eb4af4ad9",
   "metadata": {},
   "outputs": [],
   "source": [
    "d = {}\n",
    "\n",
    "for i in range(0, 18000, 1000):\n",
    "    with open(f'from_{i}_to_{i+999}.pickle', 'rb') as f:\n",
    "        d.update(pickle.load(f))"
   ]
  },
  {
   "cell_type": "code",
   "execution_count": null,
   "id": "6368db76-8b3a-4af8-9c37-c189f188180e",
   "metadata": {},
   "outputs": [],
   "source": [
    "# validate all links\n",
    "# check html page by searching for h1 title\n",
    "\n",
    "def validate():\n",
    "    with open('key-title_list.txt', 'w', encoding='utf-8') as t:\n",
    "        for key in d.keys():\n",
    "            try:\n",
    "                t.write(f'{key:7}' + bs4.BeautifulSoup(d[key]).find('h1').text.strip() + '\\n')\n",
    "            except AttributeError as e:\n",
    "                print(key)"
   ]
  },
  {
   "cell_type": "code",
   "execution_count": 27,
   "id": "d153abf2-b17b-4094-a5d6-fecfa3228898",
   "metadata": {},
   "outputs": [
    {
     "name": "stdout",
     "output_type": "stream",
     "text": [
      "4073\n",
      "1428\n",
      "111123\n",
      "6346\n",
      "102390\n",
      "7862\n",
      "145278\n",
      "2192\n",
      "8724\n",
      "8023\n",
      "8423\n",
      "18391\n",
      "104348\n",
      "98142\n",
      "20891\n",
      "121065\n",
      "138685\n",
      "138912\n",
      "1821\n"
     ]
    }
   ],
   "source": [
    "validate()"
   ]
  },
  {
   "cell_type": "code",
   "execution_count": 4,
   "id": "680f2305-7c6a-432a-94cc-61a9771ad9fd",
   "metadata": {},
   "outputs": [],
   "source": [
    "invalid_links = ['/anime/' + i for i in '''\n",
    "    4073\n",
    "    1428\n",
    "    111123\n",
    "    6346\n",
    "    102390\n",
    "    7862\n",
    "    145278\n",
    "    2192\n",
    "    8724\n",
    "    8023\n",
    "    8423\n",
    "    18391\n",
    "    104348\n",
    "    98142\n",
    "    20891\n",
    "    121065\n",
    "    138685\n",
    "    138912\n",
    "    1821\n",
    "'''.split()]\n",
    "\n",
    "invalid_links_2 = ['/anime/' + i for i in '''926\n",
    "129591\n",
    "4477\n",
    "115435\n",
    "18549\n",
    "131574'''.split()]"
   ]
  },
  {
   "cell_type": "code",
   "execution_count": 5,
   "id": "a9bf9078-5ead-4970-a3d5-c55f35e9a3ae",
   "metadata": {},
   "outputs": [],
   "source": [
    "driver = Parser.init_driver()"
   ]
  },
  {
   "cell_type": "code",
   "execution_count": 111,
   "id": "bc4f8b93-81bc-4195-923d-2c533edd9c06",
   "metadata": {},
   "outputs": [
    {
     "name": "stderr",
     "output_type": "stream",
     "text": [
      "100%|████████████████████████████████████████████████████████████████████████████████████████████████| 19/19 [00:47<00:00,  2.52s/it]\n"
     ]
    }
   ],
   "source": [
    "invalid_data = Parser.parse_links(driver, invalid_links)"
   ]
  },
  {
   "cell_type": "code",
   "execution_count": 6,
   "id": "e83853c5-1d88-4fc9-b2b6-037004aeb5be",
   "metadata": {},
   "outputs": [
    {
     "name": "stderr",
     "output_type": "stream",
     "text": [
      "100%|██████████████████████████████████████████████████████████████████████████████████████████████████| 6/6 [00:14<00:00,  2.45s/it]\n"
     ]
    }
   ],
   "source": [
    "invalid_data_2 = Parser.parse_links(driver, invalid_links_2)"
   ]
  },
  {
   "cell_type": "code",
   "execution_count": 121,
   "id": "15a7fae5-06ef-4b12-8cdc-a8fbdbf3cad5",
   "metadata": {},
   "outputs": [],
   "source": [
    "with open('invalid_data_fix.pickle', 'wb') as f:\n",
    "    pickle.dump(invalid_data, f, protocol=pickle.HIGHEST_PROTOCOL)"
   ]
  },
  {
   "cell_type": "code",
   "execution_count": 7,
   "id": "98d3cfd1-7f1f-472c-89a2-d8ae4f4331ce",
   "metadata": {},
   "outputs": [],
   "source": [
    "with open('invalid_data_fix_2.pickle', 'wb') as f:\n",
    "    pickle.dump(invalid_data_2, f, protocol=pickle.HIGHEST_PROTOCOL)"
   ]
  },
  {
   "cell_type": "code",
   "execution_count": 3,
   "id": "503f6e5c-ce53-4eea-a364-00b188c0b5ee",
   "metadata": {},
   "outputs": [],
   "source": [
    "with open('invalid_data_fix.pickle', 'rb') as f:\n",
    "    invalid_data = pickle.load(f)"
   ]
  },
  {
   "cell_type": "code",
   "execution_count": 4,
   "id": "487876a8-058c-4410-9828-eda23d1a41e6",
   "metadata": {},
   "outputs": [],
   "source": [
    "with open('invalid_data_fix_2.pickle', 'rb') as f:\n",
    "    invalid_data_2 = pickle.load(f)"
   ]
  },
  {
   "cell_type": "code",
   "execution_count": 5,
   "id": "e1c56096-9bfb-4a77-a77a-54efd74e6db4",
   "metadata": {},
   "outputs": [],
   "source": [
    "d.update(invalid_data)"
   ]
  },
  {
   "cell_type": "code",
   "execution_count": 6,
   "id": "7bdfe019-0d0a-430f-b835-58d3210ba1bc",
   "metadata": {},
   "outputs": [],
   "source": [
    "d.update(invalid_data_2)"
   ]
  },
  {
   "cell_type": "code",
   "execution_count": 7,
   "id": "546aa752-39fb-47f4-87ae-60a11e3580b5",
   "metadata": {},
   "outputs": [],
   "source": [
    "tasks = []\n",
    "\n",
    "for key in d.keys():\n",
    "    tasks.append((d[key], key))"
   ]
  },
  {
   "cell_type": "code",
   "execution_count": 8,
   "id": "693ba7c0-8680-40b1-af98-99e06e926580",
   "metadata": {},
   "outputs": [
    {
     "name": "stderr",
     "output_type": "stream",
     "text": [
      "100%|█████████████████████████████████████████████████████████████████████████████████████████| 17250/17250 [01:06<00:00, 258.29it/s]\n"
     ]
    }
   ],
   "source": [
    "if __name__ == \"__main__\":\n",
    "    with Pool(16) as pool:\n",
    "        data = list(tqdm.tqdm(pool.istarmap(extract_data_task, tasks), total=len(tasks), miniters=1))"
   ]
  },
  {
   "cell_type": "code",
   "execution_count": 26,
   "id": "3d6d2148-1cf0-4f74-92e6-03d7a8ce263f",
   "metadata": {},
   "outputs": [],
   "source": [
    "data_dict = {}\n",
    "\n",
    "for i in data:\n",
    "    if bool(i):\n",
    "        data_dict[list(i.keys())[0]] = list(i.values())[0]"
   ]
  },
  {
   "cell_type": "code",
   "execution_count": 12,
   "id": "be4b20a1-a029-4412-8a71-f3823f5462ca",
   "metadata": {},
   "outputs": [],
   "source": [
    "import pandas as pd"
   ]
  },
  {
   "cell_type": "code",
   "execution_count": 56,
   "id": "6cf4b8ad-227d-4353-b458-686e1f14ad7d",
   "metadata": {},
   "outputs": [],
   "source": [
    "df = pd.DataFrame.from_dict(data_dict, orient='index').reset_index()\n",
    "df.to_csv('anilist_data.csv', index=False)"
   ]
  }
 ],
 "metadata": {
  "kernelspec": {
   "display_name": "Python 3.9 (env)",
   "language": "python",
   "name": "python_3.9"
  },
  "language_info": {
   "codemirror_mode": {
    "name": "ipython",
    "version": 3
   },
   "file_extension": ".py",
   "mimetype": "text/x-python",
   "name": "python",
   "nbconvert_exporter": "python",
   "pygments_lexer": "ipython3",
   "version": "3.9.7"
  }
 },
 "nbformat": 4,
 "nbformat_minor": 5
}
