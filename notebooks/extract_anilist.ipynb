{
 "cells": [
  {
   "cell_type": "markdown",
   "id": "71d3ef96-deb8-467e-a66e-2c767cd0acdf",
   "metadata": {},
   "source": [
    "# This is a **cleared** version of notebook used during data preparation. Something may not work!"
   ]
  },
  {
   "cell_type": "code",
   "execution_count": 1,
   "id": "d77cd54f-5c50-4516-921f-63d6a1785493",
   "metadata": {},
   "outputs": [],
   "source": [
    "import requests\n",
    "import time\n",
    "\n",
    "from selenium import webdriver\n",
    "\n",
    "from selenium.webdriver.chrome.options import Options\n",
    "from selenium.webdriver.support.wait import WebDriverWait\n",
    "from selenium.webdriver.support import expected_conditions as EC\n",
    "from selenium.webdriver.common.by import By\n",
    "from selenium.webdriver.support.ui import Select\n",
    "from selenium.common.exceptions import NoSuchElementException, ElementClickInterceptedException\n",
    "\n",
    "import undetected_chromedriver as uc\n",
    "\n",
    "import numpy as np\n",
    "from bs4 import BeautifulSoup\n",
    "from datetime import datetime\n",
    "from dateutil import parser\n",
    "\n",
    "from iteration_utilities import duplicates\n",
    "import imageio.v3 as iio\n",
    "import tqdm\n",
    "\n",
    "import re\n",
    "import pickle"
   ]
  },
  {
   "cell_type": "code",
   "execution_count": 2,
   "id": "99a7082c-769c-4b2d-8def-9f42048c50ec",
   "metadata": {},
   "outputs": [],
   "source": [
    "BASE = 'https://anilist.co'\n",
    "NOT_FOUND = '/img/404/404_chan1.jpg'\n",
    "HEADERS = {\"userAgent\": 'Mozilla/5.0 (Windows NT 10.0; Win64; x64) AppleWebKit/537.36 (KHTML, like Gecko) Chrome/83.0.4103.53 Safari/537.36'}"
   ]
  },
  {
   "cell_type": "code",
   "execution_count": 3,
   "id": "874f6c1b-dc38-442f-ba5d-cfd45e4ded37",
   "metadata": {},
   "outputs": [],
   "source": [
    "def init_driver():\n",
    "    u = 'https://anilist.co/anime/1'\n",
    "    \n",
    "    chrome_options = Options()\n",
    "    chrome_options.add_argument(\"--disable-extensions\")\n",
    "    #chrome_options.add_argument(\"--headless\")\n",
    "    #chrome_options.add_experimental_option(\"prefs\", {\"profile.default_content_settings.cookies\": 2})\n",
    "\n",
    "    #driver = uc.Chrome(options=chrome_options)\n",
    "    driver = webdriver.Chrome(options=chrome_options)\n",
    "\n",
    "    driver.implicitly_wait(10)\n",
    "\n",
    "    driver.execute_cdp_cmd('Network.setUserAgentOverride', HEADERS)\n",
    "    driver.execute_script(\"Object.defineProperty(navigator, 'webdriver', {get: () => undefined})\")\n",
    "\n",
    "    driver.get(u)\n",
    "    time.sleep(3)\n",
    "\n",
    "    #try:\n",
    "    #    WebDriverWait(driver, 20).until(EC.element_to_be_clickable((By.XPATH,'''/html/body/div[1]/div/div/div/div[2]/div/button[2]'''))).click()\n",
    "    #except Exception as e:\n",
    "    #    print(e)\n",
    "    \n",
    "    return driver"
   ]
  },
  {
   "cell_type": "code",
   "execution_count": 4,
   "id": "6b048c42-f330-4d37-bae9-820145689bc0",
   "metadata": {},
   "outputs": [],
   "source": [
    "driver = init_driver()"
   ]
  },
  {
   "cell_type": "code",
   "execution_count": 5,
   "id": "62487bb1-65b5-4494-a1e7-ae49e74f73b7",
   "metadata": {},
   "outputs": [],
   "source": [
    "with open('normal_links.txt', 'r') as f:\n",
    "    links = f.read().split()"
   ]
  },
  {
   "cell_type": "code",
   "execution_count": 6,
   "id": "454795e1-cda5-4b6f-8f98-9700fa1d4f27",
   "metadata": {},
   "outputs": [],
   "source": [
    "with open('adult_links.txt', 'r') as f:\n",
    "    l = f.read().split()"
   ]
  },
  {
   "cell_type": "code",
   "execution_count": 7,
   "id": "5185311f-00dd-472a-8437-ab73731c84a2",
   "metadata": {
    "tags": []
   },
   "outputs": [],
   "source": [
    "def parse_links(driver, links):\n",
    "\n",
    "    data = {}\n",
    "    \n",
    "    for link in tqdm.tqdm(links):\n",
    "\n",
    "        # load and check page\n",
    "        page = BASE + link\n",
    "        driver.get(page)\n",
    "        driver.implicitly_wait(2)\n",
    "        if NOT_FOUND in driver.page_source: continue\n",
    "\n",
    "        # get id\n",
    "        pattern = re.search('''anime\\/([0-9]+)''', link)\n",
    "        idx = pattern.group(1)\n",
    "\n",
    "        # click spoiler toggle\n",
    "        try:\n",
    "            btn = driver.find_element(By.CLASS_NAME, \"spoiler-toggle\")\n",
    "            action = webdriver.ActionChains(driver)\n",
    "            action.move_to_element(btn)\n",
    "\n",
    "            try:\n",
    "                WebDriverWait(driver, 3).until(EC.element_to_be_clickable(btn)).click()\n",
    "\n",
    "                # unfocus tags panel\n",
    "                element = driver.find_element(By.CLASS_NAME, 'review button edit')\n",
    "                action.move_to_element(element)\n",
    "            except ElementClickInterceptedException as e:\n",
    "                print(e)\n",
    "        except NoSuchElementException as e:\n",
    "            pass\n",
    "\n",
    "        data[idx] = driver.page_source\n",
    "        \n",
    "    return data"
   ]
  },
  {
   "cell_type": "code",
   "execution_count": 8,
   "id": "ddda3057-87c2-4c4a-8812-90f4761e6c98",
   "metadata": {},
   "outputs": [],
   "source": [
    "def parse(min_v, max_v, links, step=1000):\n",
    "    for i in range(min_v, max_v, step):\n",
    "        data = parse_links(driver, links[i:i+step])\n",
    "\n",
    "        with open(f'from_{i}_to_{i+step-1}.pickle', 'wb') as f:\n",
    "            pickle.dump(data, f, protocol=pickle.HIGHEST_PROTOCOL)"
   ]
  },
  {
   "cell_type": "code",
   "execution_count": null,
   "id": "35713874-8ae3-4a21-9aa3-8566064cc3d1",
   "metadata": {},
   "outputs": [],
   "source": [
    "# parsing separated to chunks due to problems with internet connection\n",
    "parse(0, len(links+l)+1, links+l, step=1000)"
   ]
  },
  {
   "cell_type": "code",
   "execution_count": 9,
   "id": "b129922a-1c08-4f68-a27a-388a5b07774a",
   "metadata": {
    "tags": []
   },
   "outputs": [
    {
     "name": "stderr",
     "output_type": "stream",
     "text": [
      "100%|████████████████████████████████████████████████████████████████████████████████████████████| 1000/1000 [42:54<00:00,  2.57s/it]\n",
      "100%|████████████████████████████████████████████████████████████████████████████████████████████| 1000/1000 [41:40<00:00,  2.50s/it]\n",
      "100%|████████████████████████████████████████████████████████████████████████████████████████████| 1000/1000 [41:10<00:00,  2.47s/it]\n",
      "100%|████████████████████████████████████████████████████████████████████████████████████████████| 1000/1000 [41:11<00:00,  2.47s/it]\n",
      "100%|████████████████████████████████████████████████████████████████████████████████████████████| 1000/1000 [41:16<00:00,  2.48s/it]\n",
      "100%|████████████████████████████████████████████████████████████████████████████████████████████| 1000/1000 [41:47<00:00,  2.51s/it]\n",
      "100%|████████████████████████████████████████████████████████████████████████████████████████████| 1000/1000 [41:19<00:00,  2.48s/it]\n",
      "100%|████████████████████████████████████████████████████████████████████████████████████████████| 1000/1000 [40:04<00:00,  2.40s/it]\n",
      "100%|██████████████████████████████████████████████████████████████████████████████████████████████| 250/250 [10:15<00:00,  2.46s/it]\n"
     ]
    }
   ],
   "source": [
    "parse(9000, len(links+l)+1, links+l, step=1000)"
   ]
  },
  {
   "cell_type": "code",
   "execution_count": 12,
   "id": "d43c6b7b-f0bf-455d-9b72-0c7adc53262b",
   "metadata": {},
   "outputs": [],
   "source": [
    "with open('from_7000_to_7999.pickle', 'rb') as f:\n",
    "    d7000 = pickle.load(f)"
   ]
  },
  {
   "cell_type": "code",
   "execution_count": 14,
   "id": "2e6fd1b4-07c4-456a-b657-a3046144e933",
   "metadata": {},
   "outputs": [
    {
     "data": {
      "text/plain": [
       "['10501',\n",
       " '17697',\n",
       " '9088',\n",
       " '10802',\n",
       " '10624',\n",
       " '17233',\n",
       " '10301',\n",
       " '102303',\n",
       " '10629',\n",
       " '6919']"
      ]
     },
     "execution_count": 14,
     "metadata": {},
     "output_type": "execute_result"
    }
   ],
   "source": [
    "list(d7000.keys())[700:710]"
   ]
  },
  {
   "cell_type": "code",
   "execution_count": 25,
   "id": "1189311b-f644-485b-acea-938bb72f7174",
   "metadata": {},
   "outputs": [],
   "source": [
    "with open('tmp.html', 'w', encoding='utf-8') as f:\n",
    "    f.write(d7000['6919'])"
   ]
  }
 ],
 "metadata": {
  "kernelspec": {
   "display_name": "Python 3.9 (env)",
   "language": "python",
   "name": "python_3.9"
  },
  "language_info": {
   "codemirror_mode": {
    "name": "ipython",
    "version": 3
   },
   "file_extension": ".py",
   "mimetype": "text/x-python",
   "name": "python",
   "nbconvert_exporter": "python",
   "pygments_lexer": "ipython3",
   "version": "3.9.7"
  }
 },
 "nbformat": 4,
 "nbformat_minor": 5
}
